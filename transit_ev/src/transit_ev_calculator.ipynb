{
 "cells": [
  {
   "cell_type": "code",
   "execution_count": 1,
   "id": "c1b34add",
   "metadata": {},
   "outputs": [],
   "source": [
    "# Import Libraries\n",
    "import pandas as pd\n",
    "import numpy as np\n",
    "import yaml\n",
    "import math\n",
    "import os\n",
    "import sys"
   ]
  },
  {
   "cell_type": "code",
   "execution_count": 2,
   "id": "3ab51315",
   "metadata": {},
   "outputs": [],
   "source": [
    "pd.set_option('display.max_columns', None)\n",
    "pd.set_option('display.max_rows', None)"
   ]
  },
  {
   "cell_type": "code",
   "execution_count": 3,
   "id": "782ec4c1-e29d-48ec-8b9f-6a13870ea11c",
   "metadata": {},
   "outputs": [],
   "source": [
    "config_filename = \"D:/Projects/SANDAG/client_sandag_off_model_calculators/transit_ev/data/config.yml\""
   ]
  },
  {
   "cell_type": "code",
   "execution_count": 4,
   "id": "59e0c9f7",
   "metadata": {},
   "outputs": [],
   "source": [
    "def calculate_route_vmt(transit_routes_df: pd.DataFrame, transit_flows_df: pd.DataFrame, periods_length: dict, daily_factor: float):\n",
    "    \"\"\"\n",
    "    calculates daily vmt of each route using period headway and route length\n",
    "    \n",
    "    args:\n",
    "        transit_routes_df: dataframe with headway (by AM, PM, OP period) for routes\n",
    "        transit_flows_df: dataframe with TOMP (to mile post) used to calculate the length of route\n",
    "        periods_length: dictionary of period lengths in hours\n",
    "        daily_factor: factor to account for running hours of transit in a day\n",
    "        \n",
    "    returns:\n",
    "        dataframe with route id and its daily vmt\n",
    "    \n",
    "    \"\"\"\n",
    "    \n",
    "    work_df = transit_routes_df.copy()\n",
    "    work_df[\"Total_Freq\"] = 0\n",
    "\n",
    "    transit_route_length_df = transit_flows_df.groupby([\"ROUTE\"], as_index = False)[\"TOMP\"].max()\n",
    "    transit_route_length_df.rename(columns={\"TOMP\": \"Route_Length\"}, inplace=True)\n",
    "    \n",
    "    for period in periods_length.keys():\n",
    "        work_df.loc[:,period + \"_Freq\"] = np.where(work_df[period + \"_Headway\"] > 0, (60/work_df[period + \"_Headway\"]) * periods_length[period] * daily_factor, 0)\n",
    "        work_df[\"Total_Freq\"] = work_df[\"Total_Freq\"] + work_df[period + \"_Freq\"]\n",
    "    \n",
    "    work_df[\"NT_Freq\"] = np.where(work_df[\"Night_Headway\"] > 0, (60/work_df[\"Night_Headway\"]) * work_df[\"Night_Hours\"] * daily_factor, 0)\n",
    "    work_df[\"Total_Freq\"] = work_df[\"Total_Freq\"] + work_df[\"NT_Freq\"]\n",
    "    \n",
    "    work_df = pd.merge(work_df, transit_route_length_df, left_on=\"Route_ID\", right_on=\"ROUTE\", how=\"left\")\n",
    "    \n",
    "    work_df[\"VMT\"] = work_df[\"Total_Freq\"] * work_df[\"Route_Length\"]\n",
    "    \n",
    "    out_df = work_df[[\"Route_ID\", \"Route_Name\", \"Mode\", \"VMT\"]]\n",
    "    \n",
    "    return out_df"
   ]
  },
  {
   "cell_type": "code",
   "execution_count": 5,
   "id": "3bfd6d59",
   "metadata": {},
   "outputs": [],
   "source": [
    "def calculate_vmt_reduction(transit_ev_strategy_df: pd.DataFrame, route_vmt_df: pd.DataFrame):\n",
    "    \"\"\"\n",
    "    calculates reduction in vmt by route based on change in conventional fuel percent b/w base year and scenario year\n",
    "    \n",
    "    args:\n",
    "        transit_ev_strategy_df: dataframe with conventional fuel type percent by route in base year and scenario year\n",
    "        route_vmt_df: dataframe with daily vmt by route\n",
    "        \n",
    "    returns:\n",
    "        dataframe with route id and vmt reductions (by fuel type)\n",
    "    \n",
    "    \"\"\"\n",
    "    \n",
    "    work_df = pd.merge(transit_ev_strategy_df, route_vmt_df, left_on=\"route\", right_on=\"Route_ID\", how=\"left\")\n",
    "    \n",
    "    # keep only the routes by bus mode (in case there is a non-bus route specified in the strategy file)\n",
    "    work_df = work_df[work_df[\"Mode\"].isin([6, 7, 8, 9, 10])]\n",
    "    \n",
    "    work_df[\"total_fuel_vmt_reduction\"] = (work_df[\"conventional_fuel_pct_base\"] - work_df[\"conventional_fuel_pct_scen\"]) * work_df[\"VMT\"]\n",
    "    work_df[\"gasoline_vmt_reduction\"] = work_df[\"total_fuel_vmt_reduction\"] * work_df[\"gasoline_fleet_proportion\"]\n",
    "    work_df[\"cng_vmt_reduction\"] = work_df[\"total_fuel_vmt_reduction\"] * work_df[\"cng_fleet_proportion\"]\n",
    "    \n",
    "    work_df.rename(columns={\"Route_Name\": \"route_name\"}, inplace=True)\n",
    "    work_df.rename(columns={\"route\": \"route_id\"}, inplace=True)\n",
    "    \n",
    "    work_df[\"route\"] = (work_df[\"route_name\"]/1000).astype(int)\n",
    "    \n",
    "    out_df = work_df[[\"route_id\", \"route\", \"route_name\", \"total_fuel_vmt_reduction\", \"gasoline_vmt_reduction\", \"cng_vmt_reduction\"]]\n",
    "    \n",
    "    return out_df"
   ]
  },
  {
   "cell_type": "code",
   "execution_count": 6,
   "id": "b4ee2981-86d5-460f-8d03-bfd9327e0024",
   "metadata": {},
   "outputs": [],
   "source": [
    "def get_transit_emission_factors(input_emission_data: pd.DataFrame, scen_year: int):\n",
    "    \"\"\"\n",
    "    prepare a dataframe of transit emission factors for the scen year\n",
    "\n",
    "    args:\n",
    "        input_emission_data: dataframe with all emission rates\n",
    "        scen_year: scen_year\n",
    "\n",
    "    returns:\n",
    "        dataframe with co2 runex emission rates for transit buses\n",
    "\n",
    "    \"\"\"\n",
    "\n",
    "    emission_df = input_emission_data[input_emission_data[\"Year\"] == scen_year]\n",
    "    emission_df = emission_df[emission_df[\"Vehicle Type\"].isin([\"Bus - Gas\", \"Bus - NG\"])]\n",
    "    emission_df.reset_index(inplace=True, drop=True)\n",
    "    \n",
    "    emission_df[\"Type\"] = np.where(emission_df[\"Vehicle Type\"] == \"Bus - Gas\", \"gasoline\", \"cng\")\n",
    "    \n",
    "    out_df = emission_df[[\"Year\", \"Type\", \"CO2 RunEx Emission Factor (gr/mile)\"]]\n",
    "\n",
    "    return out_df"
   ]
  },
  {
   "cell_type": "code",
   "execution_count": 7,
   "id": "8b879c9a-25c0-4c8c-91eb-a4d548de2d76",
   "metadata": {},
   "outputs": [],
   "source": [
    "def calculate_ghg_reduction(vmt_reduction: pd.DataFrame, emission_factors: pd.DataFrame):\n",
    "    \"\"\"\n",
    "    calculates ghg reductions (by fuel type)\n",
    "    \n",
    "    args:\n",
    "        vmt_reduction: dataframe with vmt reduction by route and by fuel type\n",
    "        emission_factors: emission factor (ton/mile) by fuel type\n",
    "        \n",
    "    returns:\n",
    "        dataframe with ghg reduction by fuel type\n",
    "    \n",
    "    \"\"\"\n",
    "    GRAMS_TO_SHORT_TONS = 0.0000011\n",
    "    \n",
    "    work_df = vmt_reduction.copy()\n",
    "    \n",
    "    work_df = pd.melt(vmt_reduction_df,\n",
    "                      id_vars=[\"route_id\"],\n",
    "                      value_vars=[\"gasoline_vmt_reduction\", \"cng_vmt_reduction\"],\n",
    "                      var_name=\"fuel_type\",\n",
    "                      value_name=\"vmt_reduction\"\n",
    "                     )\n",
    "    \n",
    "    work_df[\"fuel_type\"] = work_df[\"fuel_type\"].str.replace(\"_vmt_reduction\", \"\")\n",
    "\n",
    "    work_df = pd.merge(work_df, emission_factors, left_on=\"fuel_type\", right_on=\"Type\", how=\"left\")\n",
    "    \n",
    "    work_df[\"ghg_reduction\"] = work_df[\"vmt_reduction\"] * work_df[\"CO2 RunEx Emission Factor (gr/mile)\"] * GRAMS_TO_SHORT_TONS\n",
    "\n",
    "    out_df = work_df.groupby([\"fuel_type\"])[\"ghg_reduction\"].sum().to_frame()\n",
    "    out_df.reset_index(inplace=True)\n",
    "    out_df = out_df.append({'fuel_type': 'TOTAL', 'ghg_reduction': out_df[\"ghg_reduction\"].sum()}, ignore_index=True)\n",
    "    out_df[\"fuel_type\"] = out_df[\"fuel_type\"].str.upper()\n",
    "    out_df.rename(columns={\"ghg_reduction\": \"ghg_reduction (short tons)\"}, inplace=True)  \n",
    "    \n",
    "    return out_df"
   ]
  },
  {
   "cell_type": "code",
   "execution_count": 8,
   "id": "d5f2c486",
   "metadata": {},
   "outputs": [],
   "source": [
    "def write_results(results_dict, out_file_name, out_dir):\n",
    "    with pd.ExcelWriter(os.path.join(out_dir, out_file_name)) as writer:\n",
    "        for key, value in results_dict.items():\n",
    "            value.to_excel(writer, sheet_name=key, index=False)"
   ]
  },
  {
   "cell_type": "code",
   "execution_count": 9,
   "id": "7775e88f",
   "metadata": {},
   "outputs": [],
   "source": [
    "if not os.path.exists(config_filename):\n",
    "    msg = \"Configuration file doesn't exist at: {}\".format(config_filename)\n",
    "    raise ValueError(msg)\n",
    "\n",
    "with open(config_filename, \"r\") as yml_file:\n",
    "    config = yaml.safe_load(yml_file)"
   ]
  },
  {
   "cell_type": "code",
   "execution_count": 10,
   "id": "bddd5a5b",
   "metadata": {},
   "outputs": [],
   "source": [
    "# inputs\n",
    "transit_routes_file = config['inputs']['transit_routes_file']\n",
    "transit_flow_file = config['inputs']['transit_flow_file']\n",
    "emission_factors_file = config['inputs']['emission_factors_file']\n",
    "transit_ev_strategy_file = config['inputs']['transit_ev_strategy_file']"
   ]
  },
  {
   "cell_type": "code",
   "execution_count": 11,
   "id": "6a334109",
   "metadata": {},
   "outputs": [],
   "source": [
    "# parameters\n",
    "scen_year = config['parameters']['scen_year']\n",
    "transit_working_hours_factor = config['parameters']['transit_working_hours_factor']\n",
    "periods_length = {'AM': 3, \"PM\": 3.5, \"OP\": 6.5}"
   ]
  },
  {
   "cell_type": "code",
   "execution_count": 12,
   "id": "40d9421c",
   "metadata": {},
   "outputs": [],
   "source": [
    "# read config: outputs\n",
    "output_dir = config['outputs']['output_dir']\n",
    "output_results_filename = config['outputs']['output_file_name']"
   ]
  },
  {
   "cell_type": "code",
   "execution_count": 13,
   "id": "4cb7a0bf",
   "metadata": {},
   "outputs": [],
   "source": [
    "# read data\n",
    "transit_routes_df = pd.read_csv(transit_routes_file)\n",
    "transit_flow_df = pd.read_csv(transit_flow_file)\n",
    "emission_df = pd.read_excel(emission_factors_file)\n",
    "transit_ev_strategy_df = pd.read_csv(transit_ev_strategy_file)"
   ]
  },
  {
   "cell_type": "code",
   "execution_count": 14,
   "id": "d5ba01d9-5e56-437f-bdf6-c37aa4fc5e34",
   "metadata": {},
   "outputs": [],
   "source": [
    "scenario_routes = transit_routes_df[\"Route_ID\"].to_list()\n",
    "strategy_routes = transit_ev_strategy_df[\"route\"].to_list()\n",
    "missing_route_list = list(set(strategy_routes) - set(scenario_routes))"
   ]
  },
  {
   "cell_type": "code",
   "execution_count": 15,
   "id": "65ca8e93-529e-4c05-8f4b-216f3850e845",
   "metadata": {},
   "outputs": [],
   "source": [
    "if missing_route_list:\n",
    "    msg = \"ERROR: These transit routes {} are in the EV strategy input file but are not part of the scenario.\".format(missing_route_list)\n",
    "    raise ValueError(msg)"
   ]
  },
  {
   "cell_type": "code",
   "execution_count": 16,
   "id": "0d623f98-1c5f-4708-b906-b27659b29a79",
   "metadata": {},
   "outputs": [],
   "source": [
    "# calculate total daily vmt for each route \n",
    "route_vmt_df = calculate_route_vmt(transit_routes_df, transit_flow_df, periods_length, transit_working_hours_factor)"
   ]
  },
  {
   "cell_type": "code",
   "execution_count": 17,
   "id": "50c8894f-965c-44b2-8320-dbdb4fc8d418",
   "metadata": {},
   "outputs": [
    {
     "data": {
      "text/html": [
       "<div>\n",
       "<style scoped>\n",
       "    .dataframe tbody tr th:only-of-type {\n",
       "        vertical-align: middle;\n",
       "    }\n",
       "\n",
       "    .dataframe tbody tr th {\n",
       "        vertical-align: top;\n",
       "    }\n",
       "\n",
       "    .dataframe thead th {\n",
       "        text-align: right;\n",
       "    }\n",
       "</style>\n",
       "<table border=\"1\" class=\"dataframe\">\n",
       "  <thead>\n",
       "    <tr style=\"text-align: right;\">\n",
       "      <th></th>\n",
       "      <th>Route_ID</th>\n",
       "      <th>Route_Name</th>\n",
       "      <th>Mode</th>\n",
       "      <th>VMT</th>\n",
       "    </tr>\n",
       "  </thead>\n",
       "  <tbody>\n",
       "    <tr>\n",
       "      <th>0</th>\n",
       "      <td>1</td>\n",
       "      <td>398111</td>\n",
       "      <td>4</td>\n",
       "      <td>1328.036340</td>\n",
       "    </tr>\n",
       "    <tr>\n",
       "      <th>1</th>\n",
       "      <td>2</td>\n",
       "      <td>398211</td>\n",
       "      <td>4</td>\n",
       "      <td>1328.036340</td>\n",
       "    </tr>\n",
       "    <tr>\n",
       "      <th>2</th>\n",
       "      <td>3</td>\n",
       "      <td>399104</td>\n",
       "      <td>5</td>\n",
       "      <td>2069.504188</td>\n",
       "    </tr>\n",
       "    <tr>\n",
       "      <th>3</th>\n",
       "      <td>4</td>\n",
       "      <td>399204</td>\n",
       "      <td>5</td>\n",
       "      <td>2069.504188</td>\n",
       "    </tr>\n",
       "    <tr>\n",
       "      <th>4</th>\n",
       "      <td>5</td>\n",
       "      <td>510108</td>\n",
       "      <td>5</td>\n",
       "      <td>2303.354800</td>\n",
       "    </tr>\n",
       "  </tbody>\n",
       "</table>\n",
       "</div>"
      ],
      "text/plain": [
       "   Route_ID  Route_Name  Mode          VMT\n",
       "0         1      398111     4  1328.036340\n",
       "1         2      398211     4  1328.036340\n",
       "2         3      399104     5  2069.504188\n",
       "3         4      399204     5  2069.504188\n",
       "4         5      510108     5  2303.354800"
      ]
     },
     "execution_count": 17,
     "metadata": {},
     "output_type": "execute_result"
    }
   ],
   "source": [
    "route_vmt_df.head()"
   ]
  },
  {
   "cell_type": "code",
   "execution_count": 18,
   "id": "95c06188-05b1-4779-bf36-d9bfdd7c1d7b",
   "metadata": {},
   "outputs": [],
   "source": [
    "# calculate vmt reduction by strategy routes\n",
    "vmt_reduction_df = calculate_vmt_reduction(transit_ev_strategy_df, route_vmt_df)"
   ]
  },
  {
   "cell_type": "code",
   "execution_count": 19,
   "id": "24185804-a9e9-4312-8015-6a0e5412fb19",
   "metadata": {},
   "outputs": [
    {
     "data": {
      "text/html": [
       "<div>\n",
       "<style scoped>\n",
       "    .dataframe tbody tr th:only-of-type {\n",
       "        vertical-align: middle;\n",
       "    }\n",
       "\n",
       "    .dataframe tbody tr th {\n",
       "        vertical-align: top;\n",
       "    }\n",
       "\n",
       "    .dataframe thead th {\n",
       "        text-align: right;\n",
       "    }\n",
       "</style>\n",
       "<table border=\"1\" class=\"dataframe\">\n",
       "  <thead>\n",
       "    <tr style=\"text-align: right;\">\n",
       "      <th></th>\n",
       "      <th>route_id</th>\n",
       "      <th>route</th>\n",
       "      <th>route_name</th>\n",
       "      <th>total_fuel_vmt_reduction</th>\n",
       "      <th>gasoline_vmt_reduction</th>\n",
       "      <th>cng_vmt_reduction</th>\n",
       "    </tr>\n",
       "  </thead>\n",
       "  <tbody>\n",
       "    <tr>\n",
       "      <th>0</th>\n",
       "      <td>20</td>\n",
       "      <td>235</td>\n",
       "      <td>235205</td>\n",
       "      <td>1310.052551</td>\n",
       "      <td>222.708934</td>\n",
       "      <td>1087.343617</td>\n",
       "    </tr>\n",
       "    <tr>\n",
       "      <th>1</th>\n",
       "      <td>21</td>\n",
       "      <td>237</td>\n",
       "      <td>237110</td>\n",
       "      <td>397.815257</td>\n",
       "      <td>67.628594</td>\n",
       "      <td>330.186663</td>\n",
       "    </tr>\n",
       "    <tr>\n",
       "      <th>2</th>\n",
       "      <td>22</td>\n",
       "      <td>237</td>\n",
       "      <td>237210</td>\n",
       "      <td>414.768224</td>\n",
       "      <td>70.510598</td>\n",
       "      <td>344.257626</td>\n",
       "    </tr>\n",
       "    <tr>\n",
       "      <th>3</th>\n",
       "      <td>23</td>\n",
       "      <td>244</td>\n",
       "      <td>244102</td>\n",
       "      <td>427.256568</td>\n",
       "      <td>72.633617</td>\n",
       "      <td>354.622951</td>\n",
       "    </tr>\n",
       "    <tr>\n",
       "      <th>4</th>\n",
       "      <td>24</td>\n",
       "      <td>244</td>\n",
       "      <td>244202</td>\n",
       "      <td>432.744012</td>\n",
       "      <td>73.566482</td>\n",
       "      <td>359.177530</td>\n",
       "    </tr>\n",
       "  </tbody>\n",
       "</table>\n",
       "</div>"
      ],
      "text/plain": [
       "   route_id  route  route_name  total_fuel_vmt_reduction  \\\n",
       "0        20    235      235205               1310.052551   \n",
       "1        21    237      237110                397.815257   \n",
       "2        22    237      237210                414.768224   \n",
       "3        23    244      244102                427.256568   \n",
       "4        24    244      244202                432.744012   \n",
       "\n",
       "   gasoline_vmt_reduction  cng_vmt_reduction  \n",
       "0              222.708934        1087.343617  \n",
       "1               67.628594         330.186663  \n",
       "2               70.510598         344.257626  \n",
       "3               72.633617         354.622951  \n",
       "4               73.566482         359.177530  "
      ]
     },
     "execution_count": 19,
     "metadata": {},
     "output_type": "execute_result"
    }
   ],
   "source": [
    "vmt_reduction_df.head()"
   ]
  },
  {
   "cell_type": "code",
   "execution_count": 20,
   "id": "7b7b23d3-ba68-425f-9964-a97ed353a950",
   "metadata": {},
   "outputs": [
    {
     "data": {
      "text/html": [
       "<div>\n",
       "<style scoped>\n",
       "    .dataframe tbody tr th:only-of-type {\n",
       "        vertical-align: middle;\n",
       "    }\n",
       "\n",
       "    .dataframe tbody tr th {\n",
       "        vertical-align: top;\n",
       "    }\n",
       "\n",
       "    .dataframe thead th {\n",
       "        text-align: right;\n",
       "    }\n",
       "</style>\n",
       "<table border=\"1\" class=\"dataframe\">\n",
       "  <thead>\n",
       "    <tr style=\"text-align: right;\">\n",
       "      <th></th>\n",
       "      <th>Year</th>\n",
       "      <th>Type</th>\n",
       "      <th>CO2 RunEx Emission Factor (gr/mile)</th>\n",
       "    </tr>\n",
       "  </thead>\n",
       "  <tbody>\n",
       "    <tr>\n",
       "      <th>0</th>\n",
       "      <td>2035</td>\n",
       "      <td>gasoline</td>\n",
       "      <td>1254.85</td>\n",
       "    </tr>\n",
       "    <tr>\n",
       "      <th>1</th>\n",
       "      <td>2035</td>\n",
       "      <td>cng</td>\n",
       "      <td>2053.53</td>\n",
       "    </tr>\n",
       "  </tbody>\n",
       "</table>\n",
       "</div>"
      ],
      "text/plain": [
       "   Year      Type  CO2 RunEx Emission Factor (gr/mile)\n",
       "0  2035  gasoline                              1254.85\n",
       "1  2035       cng                              2053.53"
      ]
     },
     "execution_count": 20,
     "metadata": {},
     "output_type": "execute_result"
    }
   ],
   "source": [
    "# get emission factors\n",
    "emission_factors_df = get_transit_emission_factors(emission_df, scen_year)\n",
    "\n",
    "emission_factors_df"
   ]
  },
  {
   "cell_type": "code",
   "execution_count": 21,
   "id": "e2d5b2a1-bfe4-40dd-ba5b-23e368345639",
   "metadata": {},
   "outputs": [],
   "source": [
    "# calculate ghg reductions\n",
    "ghg_reduction_df = calculate_ghg_reduction(vmt_reduction_df, emission_factors_df)"
   ]
  },
  {
   "cell_type": "code",
   "execution_count": 22,
   "id": "deea789e-b09a-4ec5-821c-45beab4842ad",
   "metadata": {},
   "outputs": [
    {
     "data": {
      "text/html": [
       "<div>\n",
       "<style scoped>\n",
       "    .dataframe tbody tr th:only-of-type {\n",
       "        vertical-align: middle;\n",
       "    }\n",
       "\n",
       "    .dataframe tbody tr th {\n",
       "        vertical-align: top;\n",
       "    }\n",
       "\n",
       "    .dataframe thead th {\n",
       "        text-align: right;\n",
       "    }\n",
       "</style>\n",
       "<table border=\"1\" class=\"dataframe\">\n",
       "  <thead>\n",
       "    <tr style=\"text-align: right;\">\n",
       "      <th></th>\n",
       "      <th>fuel_type</th>\n",
       "      <th>ghg_reduction (short tons)</th>\n",
       "    </tr>\n",
       "  </thead>\n",
       "  <tbody>\n",
       "    <tr>\n",
       "      <th>0</th>\n",
       "      <td>CNG</td>\n",
       "      <td>5.592065</td>\n",
       "    </tr>\n",
       "    <tr>\n",
       "      <th>1</th>\n",
       "      <td>GASOLINE</td>\n",
       "      <td>0.699896</td>\n",
       "    </tr>\n",
       "    <tr>\n",
       "      <th>2</th>\n",
       "      <td>TOTAL</td>\n",
       "      <td>6.291961</td>\n",
       "    </tr>\n",
       "  </tbody>\n",
       "</table>\n",
       "</div>"
      ],
      "text/plain": [
       "  fuel_type  ghg_reduction (short tons)\n",
       "0       CNG                    5.592065\n",
       "1  GASOLINE                    0.699896\n",
       "2     TOTAL                    6.291961"
      ]
     },
     "execution_count": 22,
     "metadata": {},
     "output_type": "execute_result"
    }
   ],
   "source": [
    "ghg_reduction_df"
   ]
  },
  {
   "cell_type": "code",
   "execution_count": 23,
   "id": "95f219e4",
   "metadata": {},
   "outputs": [],
   "source": [
    "results_dict = {\"GHG_Reduction\": ghg_reduction_df, \"VMT_Reduction\": vmt_reduction_df, \"Emission_Factors\": emission_factors_df}"
   ]
  },
  {
   "cell_type": "code",
   "execution_count": 24,
   "id": "fd641f35",
   "metadata": {},
   "outputs": [],
   "source": [
    "write_results(results_dict, output_results_filename, output_dir)"
   ]
  }
 ],
 "metadata": {
  "kernelspec": {
   "display_name": "Python 3 (ipykernel)",
   "language": "python",
   "name": "python3"
  },
  "language_info": {
   "codemirror_mode": {
    "name": "ipython",
    "version": 3
   },
   "file_extension": ".py",
   "mimetype": "text/x-python",
   "name": "python",
   "nbconvert_exporter": "python",
   "pygments_lexer": "ipython3",
   "version": "3.9.7"
  }
 },
 "nbformat": 4,
 "nbformat_minor": 5
}
